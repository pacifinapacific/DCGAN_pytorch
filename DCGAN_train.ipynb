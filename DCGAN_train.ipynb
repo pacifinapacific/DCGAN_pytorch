{
 "cells": [
  {
   "cell_type": "code",
   "execution_count": 2,
   "metadata": {},
   "outputs": [],
   "source": [
    "import torchvision.transforms as transforms\n",
    "from torch.utils.data import DataLoader\n",
    "import torch.nn as nn\n",
    "import torch\n",
    "import os\n",
    "import torch.utils.data\n",
    "import torch.optim as optim\n",
    "import matplotlib.pyplot as plt\n",
    "from torch.nn import functional as F\n",
    "import numpy as np\n",
    "from torchvision. datasets import ImageFolder\n",
    "from torchvision.utils import save_image\n",
    "%matplotlib inline\n",
    "cuda = torch.cuda.is_available()\n",
    "if cuda:\n",
    "    print('cuda is available!')\n",
    "if not os.path.exists(\"save_image\"):\n",
    "    os.mkdir(\"save_image\")\n",
    "if not os.path.exists(\"asset\"):\n",
    "    os.mkdir(\"asset\")\n",
    "    \n",
    "batch_size=64\n",
    "z_dim=100\n",
    "train_image=ImageFolder(\"datasets/train/\",\n",
    "                        transform=transforms.Compose([\n",
    "                        transforms.Scale((64,64)),\n",
    "                        transforms.ToTensor()]\n",
    "                            ))\n",
    "\n",
    "train_loader=DataLoader(train_image,batch_size=batch_size,shuffle=True)\n",
    "\n"
   ]
  },
  {
   "cell_type": "code",
   "execution_count": 3,
   "metadata": {},
   "outputs": [
    {
     "name": "stdout",
     "output_type": "stream",
     "text": [
      "{'image': 0}\n",
      "torch.Size([3, 64, 64])\n",
      "0.77254903 0.3372549\n"
     ]
    },
    {
     "data": {
      "text/plain": [
       "<matplotlib.image.AxesImage at 0x10ee6bc18>"
      ]
     },
     "execution_count": 3,
     "metadata": {},
     "output_type": "execute_result"
    },
    {
     "data": {
      "image/png": "[encoded data removed]",
      "text/plain": [
       "<matplotlib.figure.Figure at 0x10eafd438>"
      ]
     },
     "metadata": {},
     "output_type": "display_data"
    }
   ],
   "source": [
    "print( train_image.class_to_idx)\n",
    "images, labels = iter(train_loader).next()\n",
    "image=images[0]\n",
    "print(image.size())\n",
    "image_np=image.numpy()\n",
    "print(image_np.max(),image_np.min())\n",
    "image_np=np.transpose(image_np,(1,2,0))\n",
    "plt.imshow(image_np)"
   ]
  },
  {
   "cell_type": "code",
   "execution_count": 4,
   "metadata": {},
   "outputs": [],
   "source": [
    "class Discriminator(nn.Module):\n",
    "    def __init__(self,input_channels,image_size):\n",
    "        super(Discriminator,self).__init__()\n",
    "        self.input_channels=input_channels\n",
    "        self.image_size=image_size\n",
    "        #(input_channels,image_size,image_size)=(3,64,64)\n",
    "        self.discriminate=nn.Sequential(\n",
    "            nn.Conv2d(input_channels,64,kernel_size=4,stride=2,padding=1),\n",
    "            nn.LeakyReLU(),\n",
    "            #(64,32,32)\n",
    "            \n",
    "            nn.Conv2d(64,128,kernel_size=4,stride=2,padding=1),\n",
    "            nn.BatchNorm2d(128),\n",
    "            nn.LeakyReLU(),\n",
    "            #(128,16,16)\n",
    "            \n",
    "            nn.Conv2d(128,256,kernel_size=4,stride=2,padding=1),\n",
    "            nn.BatchNorm2d(256),\n",
    "            nn.LeakyReLU(),\n",
    "            #(256,8,8)\n",
    "            \n",
    "            nn.Conv2d(256,512,kernel_size=4,stride=2,padding=1),\n",
    "            nn.BatchNorm2d(512),\n",
    "            nn.LeakyReLU()\n",
    "            #(512,4,4),\n",
    "            )\n",
    "        \n",
    "        self.dense=nn.Sequential(\n",
    "            nn.Linear(4*4*512,1),\n",
    "            nn.Sigmoid())\n",
    "    def forward(self,x):\n",
    "        batch_size=x.size()[0]\n",
    "        d_pre=self.discriminate(x)\n",
    "        d_pre=d_pre.view(batch_size,-1)\n",
    "        out=self.dense(d_pre)\n",
    "        \n",
    "        return out"
   ]
  },
  {
   "cell_type": "code",
   "execution_count": 5,
   "metadata": {},
   "outputs": [
    {
     "name": "stdout",
     "output_type": "stream",
     "text": [
      "torch.Size([32, 1])\n",
      "tensor(0.4978)\n"
     ]
    }
   ],
   "source": [
    "test_input=torch.ones(32,3,64,64)    \n",
    "d=Discriminator(3,64)\n",
    "if cuda:\n",
    "    test_input=test_input.cuda()\n",
    "    d=d.cuda()\n",
    "output=d(test_input)\n",
    "print(output.size())\n",
    "print(output.max())"
   ]
  },
  {
   "cell_type": "code",
   "execution_count": 6,
   "metadata": {},
   "outputs": [],
   "source": [
    "class Generator(nn.Module):\n",
    "    def __init__(self,output_channels,z_dim):\n",
    "        super(Generator,self).__init__()\n",
    "        self.output_channels=output_channels\n",
    "        self.z_dim=z_dim\n",
    "        \n",
    "        self.dense=nn.Sequential(\n",
    "            nn.Linear(self.z_dim,4*4*1024)    \n",
    "            )\n",
    "        self.generate=nn.Sequential(\n",
    "            nn.ConvTranspose2d(1024,512,kernel_size=4,stride=2,padding=1),\n",
    "            nn.BatchNorm2d(512),\n",
    "            nn.ReLU(),\n",
    "            #(512,8,8)\n",
    "            \n",
    "            nn.ConvTranspose2d(512,256,kernel_size=4,stride=2,padding=1),\n",
    "            nn.BatchNorm2d(256),\n",
    "            nn.ReLU(),\n",
    "            #(256,16,16)\n",
    "            \n",
    "            nn.ConvTranspose2d(256,128,kernel_size=4,stride=2,padding=1),\n",
    "            nn.BatchNorm2d(128),\n",
    "            nn.ReLU(),\n",
    "            \n",
    "            nn.ConvTranspose2d(128,self.output_channels,kernel_size=4,stride=2,padding=1),\n",
    "            nn.Sigmoid()\n",
    "            )\n",
    "        \n",
    "        \n",
    "        \n",
    "    def forward(self,z):\n",
    "        g_pre=self.dense(z)\n",
    "        g_pre=g_pre.view(-1,1024,4,4)\n",
    "        \n",
    "        out=self.generate(g_pre)\n",
    "        return out"
   ]
  },
  {
   "cell_type": "code",
   "execution_count": 7,
   "metadata": {},
   "outputs": [
    {
     "name": "stdout",
     "output_type": "stream",
     "text": [
      "torch.Size([32, 3, 64, 64])\n"
     ]
    }
   ],
   "source": [
    "test_input=torch.ones(32,z_dim)\n",
    "g=Generator(3,z_dim)\n",
    "if cuda:\n",
    "    test_input=test_input.cuda()\n",
    "    g=g.cuda()\n",
    "out=g(test_input)\n",
    "\n",
    "print(out.size())"
   ]
  },
  {
   "cell_type": "code",
   "execution_count": 37,
   "metadata": {},
   "outputs": [],
   "source": [
    "G=Generator(3,z_dim)\n",
    "D=Discriminator(3,batch_size)\n",
    "\n",
    "if cuda:\n",
    "    G=G.cuda()\n",
    "    D=D.cuda()\n",
    "G_optimizer=optim.Adam(G.parameters(),lr=0.0002,betas=(0.5,0.999))\n",
    "D_optimizer=optim.Adam(D.parameters(),lr=0.0002,betas=(0.5,0.999))\n",
    "\n",
    "loss=nn.BCELoss() #Binary Cross Entropy\n"
   ]
  },
  {
   "cell_type": "code",
   "execution_count": 62,
   "metadata": {},
   "outputs": [],
   "source": [
    "def train():\n",
    "    D.train()\n",
    "    G.train()\n",
    "    \n",
    "    y_real=torch.ones(batch_size,1)\n",
    "    y_fake=torch.zeros(batch_size,1)\n",
    "    \n",
    "    if cuda:\n",
    "        y_real=y_real.cuda()\n",
    "        y_fake=y_fake.cuda()\n",
    "        \n",
    "        D_loss=0\n",
    "        G_loss=0\n",
    "        \n",
    "    for batch_idx,(data,_) in enumerate(train_loader):\n",
    "        if data.size()[0]!=batch_size:\n",
    "                break\n",
    "            #if barch_idx%=100:\n",
    "            #    print(\"{}/{}\".format(batch_idx,len(train_loader)))\n",
    "        z=torch.rand((batch_size,z_dim))\n",
    "        if cuda:\n",
    "            data,z=data.cuda(),z.cuda()\n",
    "        D_optimizer.zero_grad()\n",
    "            \n",
    "        D_real=D(data)\n",
    "        D_real_loss=loss(D_real,y_real)\n",
    "            \n",
    "        fake_image=G(z)\n",
    "            \n",
    "        D_fake=D(fake_image)\n",
    "        D_fake_loss=loss(D_fake,y_fake)\n",
    "            \n",
    "        D_loss=D_real_loss+D_fake_loss\n",
    "        D_loss.backward()\n",
    "        D_optimizer.step()\n",
    "        D_loss+=D_loss.data[0]\n",
    "            \n",
    "        z=torch.rand((batch_size,z_dim)) #Gの更新前にノイズを再生成する（本論文）\n",
    "        if cuda:\n",
    "            z=z.cuda()\n",
    "            \n",
    "        G_optimizer.zero_grad()\n",
    "            \n",
    "        fake_images=G(z)\n",
    "        D_fake=D(fake_images)\n",
    "        G_loss=loss(D_fake,y_real)\n",
    "        G_loss.backward()\n",
    "        G_optimizer.step()\n",
    "        G_loss+=G_loss.data[0]\n",
    "    D_loss/=len(train_loader)\n",
    "    G_loss/=len(train_loader)\n",
    "    return D_loss,G_loss\n",
    "\n",
    "\n"
   ]
  },
  {
   "cell_type": "code",
   "execution_count": 63,
   "metadata": {},
   "outputs": [],
   "source": [
    "def generate_image(epoch):\n",
    "    test_z=torch.rand((batch_size,z_dim))\n",
    "    if cuda:\n",
    "        test_z=test_z.cuda()\n",
    "    g_image=G(test_z).data.cpu()\n",
    "    save_image(g_image,\"save_image/epoch_{}.png\".format(epoch))\n",
    "    print(\"save_image!!\")"
   ]
  },
  {
   "cell_type": "code",
   "execution_count": null,
   "metadata": {},
   "outputs": [],
   "source": [
    "d_loss_list=[]\n",
    "g_loss_list=[]\n",
    "total_loss_list=[]\n",
    "num_epoch=200\n",
    "\n",
    "for epoch in range(1,num_epoch+1):\n",
    "    if epoch==1:\n",
    "        print(\"trainning start!!\")\n",
    "    d_loss,g_loss=train()\n",
    "    total_loss=d_loss+g_loss\n",
    "    print(\"epoch [{}/{}],--d_loss:{:.4f}--g_loss:{:.4f}--total_loss:{:.4f}\".format(epoch,num_epoch,\n",
    "                                                               d_loss,g_loss,total_loss))\n",
    "    d_loss_list.append(d_loss)\n",
    "    g_loss_list.append(g_loss)\n",
    "    total_loss_list.append(total_loss)\n",
    "    \n",
    "    if epoch%1==0:\n",
    "        generate_image(epoch)\n",
    "        torch.save(G.state_dict(),\"asset/G_epoch{}.pth\".format(epoch))\n",
    "        torch.save(D.state_dict(),\"asset/D_epoch{}.pth\".format(epoch))\n",
    "    \n",
    "np.save(\"asset/d_loss_list.npy\",np.array(d_loss_list))\n",
    "np.save(\"asset/g_loss_list.npy\",np.array(g_loss_list))\n",
    "np.save(\"asset/total_loss_list.npy\",np.array(total_loss_list))"
   ]
  },
  {
   "cell_type": "code",
   "execution_count": null,
   "metadata": {},
   "outputs": [],
   "source": []
  },
  {
   "cell_type": "code",
   "execution_count": null,
   "metadata": {},
   "outputs": [],
   "source": []
  }
 ],
 "metadata": {
  "kernelspec": {
   "display_name": "Python 3",
   "language": "python",
   "name": "python3"
  },
  "language_info": {
   "codemirror_mode": {
    "name": "ipython",
    "version": 3
   },
   "file_extension": ".py",
   "mimetype": "text/x-python",
   "name": "python",
   "nbconvert_exporter": "python",
   "pygments_lexer": "ipython3",
   "version": "3.6.4"
  }
 },
 "nbformat": 4,
 "nbformat_minor": 2
}
