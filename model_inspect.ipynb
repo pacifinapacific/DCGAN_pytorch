{
 "cells": [
  {
   "cell_type": "code",
   "execution_count": 1,
   "metadata": {},
   "outputs": [],
   "source": [
    "import torchvision.transforms as transforms\n",
    "from torch.utils.data import DataLoader\n",
    "import torch.nn as nn\n",
    "import torch\n",
    "import os\n",
    "import torch.utils.data\n",
    "import torch.optim as optim\n",
    "import matplotlib.pyplot as plt\n",
    "from torch.nn import functional as F\n",
    "import numpy as np\n",
    "from torchvision. datasets import ImageFolder\n",
    "from torchvision.utils import save_image\n",
    "%matplotlib inline\n",
    "cuda = torch.cuda.is_available()\n",
    "if cuda:\n",
    "    print('cuda is available!')\n",
    "if not os.path.exists(\"save_image\"):\n",
    "    os.mkdir(\"save_image\")\n",
    "if not os.path.exists(\"asset\"):\n",
    "    os.mkdir(\"asset\")\n",
    "    \n",
    "batch_size=64\n",
    "z_dim=100\n",
    "train_image=ImageFolder(\"datasets/train/\",\n",
    "                        transform=transforms.Compose([\n",
    "                        transforms.Scale((64,64)),\n",
    "                        transforms.ToTensor()]\n",
    "                            ))\n",
    "\n",
    "train_loader=DataLoader(train_image,batch_size=batch_size,shuffle=True)\n",
    "\n"
   ]
  },
  {
   "cell_type": "code",
   "execution_count": 2,
   "metadata": {},
   "outputs": [],
   "source": [
    "class Discriminator(nn.Module):\n",
    "    def __init__(self,input_channels,image_size):\n",
    "        super(Discriminator,self).__init__()\n",
    "        self.input_channels=input_channels\n",
    "        self.image_size=image_size\n",
    "        #(input_channels,image_size,image_size)=(3,64,64)\n",
    "        self.discriminate=nn.Sequential(\n",
    "            nn.Conv2d(input_channels,64,kernel_size=4,stride=2,padding=1),\n",
    "            nn.LeakyReLU(),\n",
    "            #(64,32,32)\n",
    "            \n",
    "            nn.Conv2d(64,128,kernel_size=4,stride=2,padding=1),\n",
    "            nn.BatchNorm2d(128),\n",
    "            nn.LeakyReLU(),\n",
    "            #(128,16,16)\n",
    "            \n",
    "            nn.Conv2d(128,256,kernel_size=4,stride=2,padding=1),\n",
    "            nn.BatchNorm2d(256),\n",
    "            nn.LeakyReLU(),\n",
    "            #(256,8,8)\n",
    "            \n",
    "            nn.Conv2d(256,512,kernel_size=4,stride=2,padding=1),\n",
    "            nn.BatchNorm2d(512),\n",
    "            nn.LeakyReLU()\n",
    "            #(512,4,4),\n",
    "            )\n",
    "        \n",
    "        self.dense=nn.Sequential(\n",
    "            nn.Linear(4*4*512,1),\n",
    "            nn.Sigmoid())\n",
    "    def forward(self,x):\n",
    "        batch_size=x.size()[0]\n",
    "        d_pre=self.discriminate(x)\n",
    "        d_pre=d_pre.view(batch_size,-1)\n",
    "        out=self.dense(d_pre)\n",
    "        \n",
    "        return out"
   ]
  },
  {
   "cell_type": "code",
   "execution_count": 3,
   "metadata": {},
   "outputs": [],
   "source": [
    "class Generator(nn.Module):\n",
    "    def __init__(self,output_channels,z_dim):\n",
    "        super(Generator,self).__init__()\n",
    "        self.output_channels=output_channels\n",
    "        self.z_dim=z_dim\n",
    "        \n",
    "        self.dense=nn.Sequential(\n",
    "            nn.Linear(self.z_dim,4*4*1024)    \n",
    "            )\n",
    "        self.generate=nn.Sequential(\n",
    "            nn.ConvTranspose2d(1024,512,kernel_size=4,stride=2,padding=1),\n",
    "            nn.BatchNorm2d(512),\n",
    "            nn.ReLU(),\n",
    "            #(512,8,8)\n",
    "            \n",
    "            nn.ConvTranspose2d(512,256,kernel_size=4,stride=2,padding=1),\n",
    "            nn.BatchNorm2d(256),\n",
    "            nn.ReLU(),\n",
    "            #(256,16,16)\n",
    "            \n",
    "            nn.ConvTranspose2d(256,128,kernel_size=4,stride=2,padding=1),\n",
    "            nn.BatchNorm2d(128),\n",
    "            nn.ReLU(),\n",
    "            \n",
    "            nn.ConvTranspose2d(128,self.output_channels,kernel_size=4,stride=2,padding=1),\n",
    "            nn.Sigmoid()\n",
    "            )\n",
    "        \n",
    "        \n",
    "        \n",
    "    def forward(self,z):\n",
    "        g_pre=self.dense(z)\n",
    "        g_pre=g_pre.view(-1,1024,4,4)\n",
    "        \n",
    "        out=self.generate(g_pre)\n",
    "        return out"
   ]
  },
  {
   "cell_type": "code",
   "execution_count": 8,
   "metadata": {},
   "outputs": [],
   "source": [
    "G=Generator(3,z_dim)\n",
    "D=Discriminator(3,batch_size)\n",
    "\n",
    "if cuda:\n",
    "    g_param=torch.load(\"asset/G.pth\")\n",
    "    d_param=torch.load(\"asset/D.pth\")\n",
    "else:\n",
    "    g_param=torch.load(\"asset/G.pth\",map_location=lambda storage, loc:storage)\n",
    "    d_param=torch.load(\"asset/D.pth\",map_location=lambda storage, loc:storage)\n",
    "G.load_state_dict(g_param)\n",
    "D.load_state_dict(d_param)\n",
    "    \n"
   ]
  },
  {
   "cell_type": "code",
   "execution_count": 13,
   "metadata": {},
   "outputs": [
    {
     "name": "stdout",
     "output_type": "stream",
     "text": [
      "save_image!!\n"
     ]
    }
   ],
   "source": [
    "z=torch.rand(batch_size,z_dim)\n",
    "if cuda:\n",
    "    z=z.cuda()\n",
    "generated_image=G(z).data.cpu()\n",
    "save_image(generated_image,\"save_image/inspect.png\")\n",
    "print(\"save_image!!\")"
   ]
  },
  {
   "cell_type": "code",
   "execution_count": null,
   "metadata": {},
   "outputs": [],
   "source": []
  }
 ],
 "metadata": {
  "kernelspec": {
   "display_name": "Python 3",
   "language": "python",
   "name": "python3"
  },
  "language_info": {
   "codemirror_mode": {
    "name": "ipython",
    "version": 3
   },
   "file_extension": ".py",
   "mimetype": "text/x-python",
   "name": "python",
   "nbconvert_exporter": "python",
   "pygments_lexer": "ipython3",
   "version": "3.6.4"
  }
 },
 "nbformat": 4,
 "nbformat_minor": 2
}
